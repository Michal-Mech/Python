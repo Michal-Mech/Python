{
 "cells": [
  {
   "cell_type": "markdown",
   "id": "0a4e84e6",
   "metadata": {},
   "source": [
    "<h1 style=\"font-size:50px;color:blue;text-align:center;\">Całkowanie Numeryczne metodą Romberga</h1>"
   ]
  },
  {
   "cell_type": "code",
   "execution_count": 1,
   "id": "e92691ab",
   "metadata": {},
   "outputs": [],
   "source": [
    "import math as m\n",
    "import numpy as np\n",
    "import matplotlib.pyplot as plt\n",
    "\n",
    "liczby = []"
   ]
  },
  {
   "cell_type": "code",
   "execution_count": 2,
   "id": "73689eb3",
   "metadata": {},
   "outputs": [],
   "source": [
    "def function(x):\n",
    "    return np.sin(x)/x"
   ]
  },
  {
   "cell_type": "markdown",
   "id": "ec9c48ca",
   "metadata": {},
   "source": [
    "<p>W metodzie function umieszczan jest funkcja, która będzie całkowana numerycznie metodą romberga</p>"
   ]
  },
  {
   "cell_type": "code",
   "execution_count": 3,
   "id": "5f4f153a",
   "metadata": {},
   "outputs": [],
   "source": [
    "def trapezoidal(f,gg,dg,n):\n",
    "    deltax = (gg-dg)/n\n",
    "    h = deltax + dg\n",
    "\n",
    "    calka = 0\n",
    "    for i in range (1,n,1):\n",
    "        calka += 2*f(h)\n",
    "        h = h + deltax\n",
    "    calka += f(gg)\n",
    "    calka += f(dg)\n",
    "    calka *= deltax/2\n",
    "    return calka"
   ]
  },
  {
   "cell_type": "markdown",
   "id": "c0b381ec",
   "metadata": {},
   "source": [
    "<p>Pierwszym krokiem rozwiązania całki metodą romberga, jest oblicznie całki metodą trapezów\n",
    "argumenty przekazywane do funkcji trapezoidal:</p>\n",
    "    <ul>\n",
    "                <li>f - funkcja, która będzie całkowana - funkcja, która będzie całkowana</li>\n",
    "                <li>gg - górna granica całkowania</li>\n",
    "                <li> dg - dolna granica całkowania</li>\n",
    "                <li> n - liczba trapezów na który dzielimy obszar pod funkcją</li>\n",
    "            </ul>"
   ]
  },
  {
   "cell_type": "code",
   "execution_count": 4,
   "id": "f6d5a5ff",
   "metadata": {},
   "outputs": [],
   "source": [
    "def pierwszyRzad(f,gg,dg,rzad):\n",
    "    n = 1\n",
    "    krok = 1\n",
    "    liczby.append(round(trapezoidal(f,gg,dg,n),6))\n",
    "    n+=1\n",
    "    while(krok <= rzad):\n",
    "        liczby.append(round(trapezoidal(f,gg,dg,n),6))\n",
    "        n =n*2\n",
    "        krok+=1\n",
    "    liczby.pop()\n",
    "    return liczby"
   ]
  },
  {
   "cell_type": "markdown",
   "id": "e0a5e13e",
   "metadata": {},
   "source": [
    "<p>Metoda pierwszyRzad korzysta z metody trapezoidal, aby móć wynzaczyć pierwszy Rząd metody romberga metodą trapezów. Następnie obliczone wartości są umieszczane w liście  </p>\n",
    "          <ul>\n",
    "                <li>rzad - określa rząd do którego ma być liczona całka metodą romberga</li>              \n",
    "            </ul>"
   ]
  },
  {
   "cell_type": "code",
   "execution_count": null,
   "id": "da01a1c4",
   "metadata": {},
   "outputs": [],
   "source": [
    "def romberg(f,gg,dg,rzad):\n",
    "    liczby = pierwszyRzad(f,gg,dg,rzad)\n",
    "    print(\"Rząd romberga: \", 1, liczby)\n",
    "    wpotega = 2\n",
    "    for step in range(1, rzad):\n",
    "        for i in range(len(liczby) - 1):\n",
    "            dzielnik = 2 ** wpotega - 1\n",
    "            liczby[i] = round(liczby[i+1] + (liczby[i+1] - liczby[i])/dzielnik, 6)\n",
    "        wpotega += 2\n",
    "        liczby.pop()\n",
    "        print(\"Rząd romberga: \", step+1, liczby)"
   ]
  },
  {
   "cell_type": "markdown",
   "id": "e7f9fcc3",
   "metadata": {},
   "source": [
    "<p> Metoda romberg wyznacza kolejne rzędy naszej całki, wykorzystuje do tego kolejne udoskonalenia i dzięki tym udoskonaleniom pozwala uzyskać lespsze przybliżenia </p>"
   ]
  },
  {
   "cell_type": "markdown",
   "id": "24b2c17c",
   "metadata": {},
   "source": [
    "<h2 style=\"font-size:30px;color:green;text-align:center;\">Całkowanie funkcji sin(x)/x</h2>"
   ]
  },
  {
   "cell_type": "code",
   "execution_count": 6,
   "id": "bb6dd67e",
   "metadata": {},
   "outputs": [
    {
     "data": {
      "image/png": "[encoded data removed]",
      "text/plain": [
       "<Figure size 640x480 with 1 Axes>"
      ]
     },
     "metadata": {},
     "output_type": "display_data"
    }
   ],
   "source": [
    "fig = plt.figure()\n",
    "ax = fig.add_subplot(1, 1, 1)\n",
    "ax.spines['left'].set_position('center')\n",
    "ax.spines['bottom'].set_position('zero')\n",
    "ax.spines['right'].set_color('none')\n",
    "ax.spines['top'].set_color('none')\n",
    "ax.xaxis.set_ticks_position('bottom')\n",
    "ax.yaxis.set_ticks_position('left')\n",
    "x = np.linspace(-20,20,10000)\n",
    "y = np.sin(x)/x\n",
    "plt.plot(x,y)\n",
    "plt.show()"
   ]
  },
  {
   "cell_type": "markdown",
   "id": "7574c644",
   "metadata": {},
   "source": [
    "<p> Wykreślenie wykresu funkcji </p>"
   ]
  },
  {
   "cell_type": "code",
   "execution_count": 7,
   "id": "81fd9e93",
   "metadata": {},
   "outputs": [
    {
     "name": "stdout",
     "output_type": "stream",
     "text": [
      "Rząd romberga:  1 [0.338562, 11.108404, 5.533315, 3.144922, 3.07926, 3.06556, 3.062268, 3.061453]\n",
      "Rząd romberga:  2 [14.698351, 3.674952, 2.348791, 3.057373, 3.060993, 3.061171, 3.061181]\n",
      "Rząd romberga:  3 [2.940059, 2.26038, 3.104612, 3.061234, 3.061183, 3.061182]\n",
      "Rząd romberga:  4 [2.249591, 3.118013, 3.060545, 3.061182, 3.061182]\n",
      "Rząd romberga:  5 [3.121419, 3.06032, 3.061184, 3.061182]\n",
      "Rząd romberga:  6 [3.06026, 3.061185, 3.061182]\n",
      "Rząd romberga:  7 [3.061185, 3.061182]\n",
      "Rząd romberga:  8 [3.061182]\n"
     ]
    }
   ],
   "source": [
    "romberg(function,14,-12,8)"
   ]
  },
  {
   "cell_type": "markdown",
   "id": "2f56ecd8",
   "metadata": {},
   "source": [
    "<p> Wynik metody całkowania metodą romberga </p>"
   ]
  },
  {
   "cell_type": "code",
   "execution_count": 8,
   "id": "157118d1",
   "metadata": {},
   "outputs": [
    {
     "name": "stdout",
     "output_type": "stream",
     "text": [
      "Błąd bezwzględny -2.000000000279556e-06\n",
      "Błąd względny -6.53342828673765e-07\n"
     ]
    }
   ],
   "source": [
    "wolfram = 3.06118 #np.sin(x)/x przedziały 14 -12\n",
    "bezwzględny = wolfram-liczby[0]\n",
    "wzgledny = bezwzględny/wolfram\n",
    "print(\"Błąd bezwzględny\",bezwzględny)\n",
    "print(\"Błąd względny\",wzgledny)"
   ]
  },
  {
   "cell_type": "markdown",
   "id": "5050c72e",
   "metadata": {},
   "source": [
    "<p>Obliczenie błędu względnego i bezwzględnego dla funkcji sin(x)/x</p>"
   ]
  },
  {
   "cell_type": "markdown",
   "id": "113af635",
   "metadata": {},
   "source": [
    "<h2 style=\"font-size:30px;color:purple;text-align:center;\">Całkowanie funkcji sin(exp(-x))</h2>"
   ]
  },
  {
   "cell_type": "code",
   "execution_count": 9,
   "id": "6efc0247",
   "metadata": {},
   "outputs": [],
   "source": [
    "liczby.clear()\n",
    "def function(x):\n",
    "    return np.sin(np.exp(-x))"
   ]
  },
  {
   "cell_type": "code",
   "execution_count": 10,
   "id": "74275ccd",
   "metadata": {},
   "outputs": [
    {
     "data": {
      "image/png": "[encoded data removed]",
      "text/plain": [
       "<Figure size 640x480 with 1 Axes>"
      ]
     },
     "metadata": {},
     "output_type": "display_data"
    }
   ],
   "source": [
    "fig = plt.figure()\n",
    "ax = fig.add_subplot(1, 1, 1)\n",
    "ax.spines['left'].set_position('center')\n",
    "ax.spines['bottom'].set_position('zero')\n",
    "ax.spines['right'].set_color('none')\n",
    "ax.spines['top'].set_color('none')\n",
    "ax.xaxis.set_ticks_position('bottom')\n",
    "ax.yaxis.set_ticks_position('left')\n",
    "y = np.sin(np.exp(-x))\n",
    "plt.plot(x,y)\n",
    "plt.show()"
   ]
  },
  {
   "cell_type": "code",
   "execution_count": 11,
   "id": "58ccf998",
   "metadata": {},
   "outputs": [
    {
     "name": "stdout",
     "output_type": "stream",
     "text": [
      "Rząd romberga:  1 [12.893013, 11.121795, 3.321651, 3.768788, -0.767945, -0.094546, 0.490847, 1.33188, 0.843957, 1.457271, 1.582578, 1.525075]\n",
      "Rząd romberga:  2 [10.531389, 0.721603, 3.917834, -2.280189, 0.12992, 0.685978, 1.612224, 0.681316, 1.661709, 1.624347, 1.505907]\n",
      "Rząd romberga:  3 [0.067617, 4.130916, -2.693391, 0.290594, 0.723049, 1.673974, 0.619255, 1.727069, 1.621856, 1.498011]\n",
      "Rząd romberga:  4 [4.195413, -2.801713, 0.337959, 0.729913, 1.689068, 0.602513, 1.744653, 1.620186, 1.496045]\n",
      "Rząd romberga:  5 [-2.829153, 0.350271, 0.73145, 1.692829, 0.598252, 1.749132, 1.619698, 1.495558]\n",
      "Rząd romberga:  6 [0.353379, 0.731823, 1.693769, 0.597182, 1.750257, 1.619571, 1.495437]\n",
      "Rząd romberga:  7 [0.731915, 1.694004, 0.596914, 1.750539, 1.619539, 1.495407]\n",
      "Rząd romberga:  8 [1.694063, 0.596847, 1.750609, 1.619531, 1.495399]\n",
      "Rząd romberga:  9 [0.59683, 1.750627, 1.619529, 1.495397]\n",
      "Rząd romberga:  10 [1.750631, 1.619528, 1.495397]\n",
      "Rząd romberga:  11 [1.619528, 1.495397]\n",
      "Rząd romberga:  12 [1.495397]\n"
     ]
    }
   ],
   "source": [
    "romberg(function,14,-12,12)"
   ]
  },
  {
   "cell_type": "code",
   "execution_count": 12,
   "id": "bb2abe2e",
   "metadata": {},
   "outputs": [
    {
     "name": "stdout",
     "output_type": "stream",
     "text": [
      "Błąd bezwzględny 0.07539299999999982\n",
      "Błąd względny 0.04799686781810415\n"
     ]
    }
   ],
   "source": [
    "wolfram = 1.57079 #np.sin(x)/x przedziały 14 -12\n",
    "bezwzględny = wolfram-liczby[0]\n",
    "wzgledny = bezwzględny/wolfram\n",
    "print(\"Błąd bezwzględny\",bezwzględny)\n",
    "print(\"Błąd względny\",wzgledny)"
   ]
  }
 ],
 "metadata": {
  "kernelspec": {
   "display_name": "Python 3 (ipykernel)",
   "language": "python",
   "name": "python3"
  },
  "language_info": {
   "codemirror_mode": {
    "name": "ipython",
    "version": 3
   },
   "file_extension": ".py",
   "mimetype": "text/x-python",
   "name": "python",
   "nbconvert_exporter": "python",
   "pygments_lexer": "ipython3",
   "version": "3.9.13"
  }
 },
 "nbformat": 4,
 "nbformat_minor": 5
}
